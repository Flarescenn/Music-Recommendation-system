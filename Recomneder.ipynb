{
 "cells": [
  {
   "cell_type": "code",
   "execution_count": 1,
   "metadata": {},
   "outputs": [],
   "source": [
    "import pandas as pd\n",
    "\n",
    "df = pd.read_csv('Music Info.csv')\n",
    "\n",
    "df = df.dropna()\n",
    "\n",
    "df.to_csv('preprocessed_data.csv', index=False)\n"
   ]
  },
  {
   "cell_type": "code",
   "execution_count": 2,
   "metadata": {},
   "outputs": [
    {
     "name": "stdout",
     "output_type": "stream",
     "text": [
      "Number of rows: 50683\n"
     ]
    }
   ],
   "source": [
    "df = pd.read_csv('Music Info.csv')\n",
    "num_rows = df.shape[0]\n",
    "print(\"Number of rows:\", num_rows)"
   ]
  },
  {
   "cell_type": "code",
   "execution_count": 3,
   "metadata": {},
   "outputs": [
    {
     "name": "stdout",
     "output_type": "stream",
     "text": [
      "Number of rows: 21916\n"
     ]
    }
   ],
   "source": [
    "df = pd.read_csv('preprocessed_data.csv')\n",
    "num_rows = df.shape[0]\n",
    "print(\"Number of rows:\", num_rows)"
   ]
  },
  {
   "cell_type": "code",
   "execution_count": 4,
   "metadata": {},
   "outputs": [
    {
     "name": "stdout",
     "output_type": "stream",
     "text": [
      "Index(['track_id', 'name', 'artist', 'spotify_preview_url', 'spotify_id',\n",
      "       'tags', 'genre', 'year', 'duration_ms', 'danceability', 'energy', 'key',\n",
      "       'loudness', 'mode', 'speechiness', 'acousticness', 'instrumentalness',\n",
      "       'liveness', 'valence', 'tempo', 'time_signature'],\n",
      "      dtype='object')\n"
     ]
    }
   ],
   "source": [
    "print(df.columns)\n"
   ]
  },
  {
   "cell_type": "code",
   "execution_count": 5,
   "metadata": {},
   "outputs": [],
   "source": [
    "df = df.drop(columns=['spotify_preview_url'])\n",
    "df = df.drop(columns=['spotify_id'])"
   ]
  },
  {
   "cell_type": "code",
   "execution_count": 6,
   "metadata": {},
   "outputs": [
    {
     "name": "stdout",
     "output_type": "stream",
     "text": [
      "Index(['track_id', 'name', 'artist', 'tags', 'genre', 'year', 'duration_ms',\n",
      "       'danceability', 'energy', 'key', 'loudness', 'mode', 'speechiness',\n",
      "       'acousticness', 'instrumentalness', 'liveness', 'valence', 'tempo',\n",
      "       'time_signature'],\n",
      "      dtype='object')\n"
     ]
    }
   ],
   "source": [
    "print(df.columns)\n"
   ]
  },
  {
   "cell_type": "code",
   "execution_count": 7,
   "metadata": {},
   "outputs": [],
   "source": [
    "df.to_csv('preprocessed_data.csv', index=False)"
   ]
  },
  {
   "cell_type": "code",
   "execution_count": 9,
   "metadata": {},
   "outputs": [],
   "source": [
    "df=df.head(30)\n",
    "df.head()"
   ]
  },
  {
   "cell_type": "code",
   "execution_count": 10,
   "metadata": {},
   "outputs": [
    {
     "name": "stdout",
     "output_type": "stream",
     "text": [
      "              track_id                    name                 artist  \\\n",
      "0   TROUVHL128F426C441         Come as You Are                Nirvana   \n",
      "1   TRLNZBD128F935E4D8                   Creep              Radiohead   \n",
      "2   TRMZXEW128F9341FD5           The Scientist               Coldplay   \n",
      "3   TRIODZU128E078F3E2        Under the Bridge  Red Hot Chili Peppers   \n",
      "4   TRYEZGE128F92D04C8          Feel Good Inc.               Gorillaz   \n",
      "5   TRUENYK128F4274057              Chop Suey!       System of a Down   \n",
      "6   TRWEHTV12903D086FC            Use Somebody          Kings of Leon   \n",
      "7   TRIQWYH128F1486062        Paranoid Android              Radiohead   \n",
      "8   TRUOEWJ128F9345A85      Stairway to Heaven           Led Zeppelin   \n",
      "9   TRAOMFT128F42A7684      Losing My Religion                 R.E.M.   \n",
      "10  TRNNGMK128F423F034       Where Is My Mind?                 Pixies   \n",
      "11  TRVRWFY128F4286EF9             Basket Case              Green Day   \n",
      "12  TRADPIA128E078EE1B        Heart-Shaped Box                Nirvana   \n",
      "13  TRIMWJA128F9309A68  Smile Like You Mean It            The Killers   \n",
      "14  TRRISDV128F42A72DA                Hysteria                   Muse   \n",
      "15  TRSFPEE128F429B0EE                In Bloom                Nirvana   \n",
      "16  TRPFYYL128F92F7144                Float On           Modest Mouse   \n",
      "17  TRLPNCR128F4262D8E              Can't Stop  Red Hot Chili Peppers   \n",
      "18  TRFROHP128F9309571    Nothing Else Matters              Metallica   \n",
      "19  TRUGANP12903CB2C46                   Naïve              The Kooks   \n",
      "20  TRFNTRW128F422C28C                 Trouble               Coldplay   \n",
      "21  TRFWGOJ128E0780C8B             In My Place               Coldplay   \n",
      "22  TRHMVGF128E078ED9B                 Rape Me                Nirvana   \n",
      "23  TRSCMBY128F9311188               Mardy Bum         Arctic Monkeys   \n",
      "24  TRYFDIV128F42BAF81      Fake Plastic Trees              Radiohead   \n",
      "25  TRCSKKO128EF33DD14      Sweet Home Alabama         Lynyrd Skynyrd   \n",
      "26  TRYJPIH128F4262602               This Love               Maroon 5   \n",
      "27  TRAAHSY128F147BB5C          Speed of Sound               Coldplay   \n",
      "28  TRPSVTL128F936017F        Sultans of Swing           Dire Straits   \n",
      "29  TRXNSKZ128F427F1FB               Last Nite            The Strokes   \n",
      "\n",
      "                                                 tags       genre  year  \\\n",
      "0    rock, alternative, alternative_rock, 90s, grunge         RnB  1991   \n",
      "1   rock, alternative, indie, alternative_rock, in...         RnB  2008   \n",
      "2   rock, alternative, indie, pop, alternative_roc...        Rock  2007   \n",
      "3      rock, alternative, alternative_rock, 90s, funk         Pop  2003   \n",
      "4   rock, electronic, alternative, indie, pop, alt...         RnB  2010   \n",
      "5   rock, alternative, metal, alternative_rock, ha...       Metal  2008   \n",
      "6   rock, alternative, indie, alternative_rock, in...  Electronic  2003   \n",
      "7   rock, electronic, alternative, indie, alternat...        Jazz  2012   \n",
      "8   rock, classic_rock, hard_rock, progressive_roc...        Punk  2013   \n",
      "9   rock, alternative, indie, pop, alternative_roc...         Pop  2014   \n",
      "10  rock, alternative, indie, alternative_rock, in...        Rock  2005   \n",
      "11  rock, alternative, alternative_rock, punk, pun...        Rock  2017   \n",
      "12   rock, alternative, alternative_rock, 90s, grunge        Rock  2007   \n",
      "13  rock, alternative, indie, pop, alternative_roc...        Rock  2004   \n",
      "14  rock, alternative, indie, alternative_rock, in...        Rock  2010   \n",
      "15   rock, alternative, alternative_rock, 90s, grunge        Punk  1991   \n",
      "16  rock, alternative, indie, alternative_rock, in...        Rock  2004   \n",
      "17          rock, alternative, alternative_rock, funk  Electronic  2002   \n",
      "18  rock, metal, hard_rock, heavy_metal, thrash_me...       Metal  1991   \n",
      "19  rock, alternative, indie, indie_rock, british,...        Rock  2012   \n",
      "20  rock, alternative, indie, pop, alternative_roc...        Rock  2011   \n",
      "21  rock, alternative, indie, pop, alternative_roc...        Rock  2012   \n",
      "22   rock, alternative, alternative_rock, 90s, grunge        Rock  1993   \n",
      "23  rock, alternative, indie, alternative_rock, in...        Rock  2006   \n",
      "24  rock, alternative, indie, alternative_rock, in...        Rock  1995   \n",
      "25                rock, classic_rock, 70s, blues_rock        Rock  1998   \n",
      "26  rock, alternative, pop, alternative_rock, love...         RnB  2007   \n",
      "27  rock, alternative, indie, pop, alternative_roc...        Rock  2008   \n",
      "28               rock, classic_rock, 80s, 70s, guitar        Rock  2013   \n",
      "29  rock, alternative, indie, alternative_rock, in...        Rock  2001   \n",
      "\n",
      "    duration_ms  danceability  energy  key  loudness  mode  speechiness  \\\n",
      "0        218920         0.508   0.826    4    -5.783     0       0.0400   \n",
      "1        238640         0.515   0.430    7    -9.935     1       0.0369   \n",
      "2        311014         0.566   0.429    5    -7.826     1       0.0242   \n",
      "3        265506         0.554   0.490    4    -8.046     1       0.0457   \n",
      "4        223106         0.809   0.720    6    -7.776     1       0.1360   \n",
      "5        210480         0.420   0.925    7    -4.217     0       0.1200   \n",
      "6        230960         0.276   0.755    0    -5.406     1       0.0460   \n",
      "7        384933         0.232   0.800    5    -6.863     1       0.0573   \n",
      "8        488019         0.354   0.361    9   -12.722     0       0.0509   \n",
      "9        288160         0.668   0.736    9   -10.753     0       0.0277   \n",
      "10       230093         0.514   0.435    4   -13.517     1       0.0353   \n",
      "11       181533         0.442   0.943    3    -3.205     1       0.0602   \n",
      "12       278520         0.609   0.842    0    -5.861     1       0.0342   \n",
      "13       235480         0.369   0.981    3    -2.620     0       0.1600   \n",
      "14       226760         0.411   0.914    9    -6.121     0       0.0510   \n",
      "15       254760         0.433   0.744   10    -8.970     0       0.0449   \n",
      "16       208466         0.646   0.893    6    -4.799     1       0.0301   \n",
      "17       269000         0.618   0.938    9    -3.442     1       0.0456   \n",
      "18       388266         0.553   0.362    4   -11.218     0       0.0263   \n",
      "19       203680         0.559   0.791    8    -6.966     0       0.0662   \n",
      "20       270666         0.558   0.511   11    -7.346     0       0.0300   \n",
      "21       228346         0.423   0.566    9    -6.550     1       0.0272   \n",
      "22       170000         0.417   0.739    8   -10.543     1       0.0466   \n",
      "23       175426         0.634   0.599    2    -5.447     1       0.0365   \n",
      "24       290706         0.454   0.229    2   -12.592     1       0.0297   \n",
      "25       283973         0.575   0.542    0   -14.544     1       0.0256   \n",
      "26       205786         0.714   0.862    5    -4.603     0       0.0363   \n",
      "27       287906         0.523   0.898   11    -6.765     0       0.0567   \n",
      "28       348812         0.736   0.815    5    -9.302     1       0.0304   \n",
      "29       193373         0.624   0.899    0    -5.710     1       0.0295   \n",
      "\n",
      "    acousticness  instrumentalness  liveness  valence    tempo  time_signature  \n",
      "0       0.000175          0.000459    0.0878    0.543  120.012               4  \n",
      "1       0.010200          0.000141    0.1290    0.104   91.841               4  \n",
      "2       0.715000          0.000014    0.1200    0.173  146.365               4  \n",
      "3       0.016800          0.000534    0.1360    0.513   84.275               4  \n",
      "4       0.033700          0.001410    0.8260    0.832  138.556               4  \n",
      "5       0.000363          0.002000    0.1000    0.322  127.422               4  \n",
      "6       0.005830          0.000543    0.1830    0.194  137.149               4  \n",
      "7       0.052300          0.006060    0.1180    0.299   81.849               4  \n",
      "8       0.625000          0.011200    0.3500    0.212   80.360               4  \n",
      "9       0.011500          0.000259    0.3370    0.629  126.978               4  \n",
      "10      0.007800          0.000859    0.0802    0.212   82.104               4  \n",
      "11      0.002930          0.000009    0.0910    0.781   85.064               4  \n",
      "12      0.004400          0.011600    0.3530    0.459  115.158               4  \n",
      "13      0.000391          0.010400    0.1600    0.379  125.002               4  \n",
      "14      0.000462          0.001030    0.1460    0.441   93.123               4  \n",
      "15      0.000010          0.000077    0.2900    0.595  157.180               4  \n",
      "16      0.015100          0.000004    0.0892    0.559  100.951               4  \n",
      "17      0.017900          0.000000    0.1670    0.875   91.455               4  \n",
      "18      0.045800          0.000006    0.0750    0.158  142.352               3  \n",
      "19      0.066800          0.000000    0.2300    0.716  103.380               4  \n",
      "20      0.176000          0.000952    0.1510    0.184  139.858               4  \n",
      "21      0.052600          0.000004    0.1960    0.218  144.688               4  \n",
      "22      0.018600          0.000000    0.0638    0.255  111.928               4  \n",
      "23      0.028800          0.000000    0.1970    0.312  112.215               4  \n",
      "24      0.167000          0.102000    0.2020    0.134   73.552               4  \n",
      "25      0.324000          0.000783    0.0977    0.855   97.804               4  \n",
      "26      0.060900          0.000000    0.0930    0.764   95.038               4  \n",
      "27      0.004910          0.034500    0.0746    0.355  123.085               4  \n",
      "28      0.076300          0.079900    0.2700    0.921  148.152               4  \n",
      "29      0.022300          0.000155    0.0975    0.797  104.055               4  \n"
     ]
    }
   ],
   "source": [
    "print(df)"
   ]
  },
  {
   "cell_type": "code",
   "execution_count": 11,
   "metadata": {},
   "outputs": [
    {
     "data": {
      "text/plain": [
       "[<matplotlib.lines.Line2D at 0x1fb036fe290>]"
      ]
     },
     "execution_count": 11,
     "metadata": {},
     "output_type": "execute_result"
    },
    {
     "data": {
      "image/png": "[encoded data removed]",
      "text/plain": [
       "<Figure size 640x480 with 1 Axes>"
      ]
     },
     "metadata": {},
     "output_type": "display_data"
    }
   ],
   "source": [
    "import matplotlib.pyplot as plt\n",
    "plt.plot(df['acousticness'])"
   ]
  }
 ],
 "metadata": {
  "kernelspec": {
   "display_name": "Python 3",
   "language": "python",
   "name": "python3"
  },
  "language_info": {
   "codemirror_mode": {
    "name": "ipython",
    "version": 3
   },
   "file_extension": ".py",
   "mimetype": "text/x-python",
   "name": "python",
   "nbconvert_exporter": "python",
   "pygments_lexer": "ipython3",
   "version": "3.11.6"
  }
 },
 "nbformat": 4,
 "nbformat_minor": 2
}
